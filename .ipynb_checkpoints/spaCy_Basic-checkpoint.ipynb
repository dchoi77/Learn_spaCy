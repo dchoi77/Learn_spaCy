{
 "cells": [
  {
   "cell_type": "markdown",
   "metadata": {},
   "source": [
    "# <font color=blue>Basic Attributes</font>"
   ]
  },
  {
   "cell_type": "code",
   "execution_count": 3,
   "metadata": {},
   "outputs": [],
   "source": [
    "import spacy\n",
    "nlp = spacy.load('en')\n",
    "doc = nlp(\"I am learning spaCy.\")"
   ]
  },
  {
   "cell_type": "code",
   "execution_count": 6,
   "metadata": {},
   "outputs": [
    {
     "data": {
      "text/plain": [
       "(spacy.tokens.doc.Doc, spacy.tokens.token.Token, spacy.tokens.span.Span)"
      ]
     },
     "execution_count": 6,
     "metadata": {},
     "output_type": "execute_result"
    }
   ],
   "source": [
    "type(doc), type(doc[0]), type(doc[1:3])"
   ]
  },
  {
   "cell_type": "markdown",
   "metadata": {},
   "source": [
    "## Token attributes\n",
    "* _token_.i\n",
    "* _token_.text\n",
    "* _token_.is_alpha (same as token.text.isalpha())\n",
    "* _token_.is_punct\n",
    "* _token_.is_stop\n",
    "* _token_.like_num"
   ]
  },
  {
   "cell_type": "markdown",
   "metadata": {},
   "source": [
    "## Part-of-speech (_token_.pos_)\n",
    "\n",
    "* ADJ: adjective\n",
    "* ADP: adposition (preposition or postposition)\n",
    "* ADV: adverb\n",
    "* AUX: auxililary\n",
    "* CONJ: conjuction\n",
    "    * CCONJ: coordinating conjunction\n",
    "    * SCONJ: subordinating conjunction - ex) if, while\n",
    "* DET: determiner\n",
    "* INTJ: interjection\n",
    "* NOUN: noun\n",
    "* NUM: numeral\n",
    "* PART: particle\n",
    "* PRON: pronoun\n",
    "* PROPN: proper noun\n",
    "* PUNCT: punctuation\n",
    "* SYM: symbol\n",
    "* VERB: verb\n",
    "* X: other"
   ]
  },
  {
   "cell_type": "markdown",
   "metadata": {},
   "source": [
    "## Dependency (_token_.dep_, _token_.head, _token_.children, _token_.ancestors)\n",
    "\n",
    "* acomp: adjectival complement\n",
    "* amod: adjectival modifier\n",
    "* aux: auxiliary \n",
    "* compound\n",
    "* conj: conjunct\n",
    "* det: determiner \n",
    "* dobj: direct object \n",
    "* nsubj: nominal subject \n",
    "* pobj: prepositional Object"
   ]
  },
  {
   "cell_type": "markdown",
   "metadata": {},
   "source": [
    "## Named Entities (_doc_.ents)"
   ]
  },
  {
   "cell_type": "code",
   "execution_count": 22,
   "metadata": {},
   "outputs": [
    {
     "name": "stdout",
     "output_type": "stream",
     "text": [
      "<class 'spacy.tokens.span.Span'>\n",
      "[(Facebook, Inc., 'ORG'), (American, 'NORP'), (Menlo Park, 'GPE'), (California, 'GPE')]\n"
     ]
    }
   ],
   "source": [
    "doc = nlp(\"Facebook, Inc. is an American social media conglomerate corporation based in Menlo Park, California.\")\n",
    "\n",
    "print(type(doc.ents[0]))\n",
    "\n",
    "print([(ent, ent.label_) for ent in doc.ents])"
   ]
  },
  {
   "cell_type": "markdown",
   "metadata": {},
   "source": [
    "# <font color=blue>spaCy functions</font>"
   ]
  },
  {
   "cell_type": "markdown",
   "metadata": {},
   "source": [
    "## spacy.explain()"
   ]
  },
  {
   "cell_type": "code",
   "execution_count": 23,
   "metadata": {},
   "outputs": [
    {
     "data": {
      "text/plain": [
       "'Nationalities or religious or political groups'"
      ]
     },
     "execution_count": 23,
     "metadata": {},
     "output_type": "execute_result"
    }
   ],
   "source": [
    "spacy.explain('NORP')"
   ]
  },
  {
   "cell_type": "markdown",
   "metadata": {},
   "source": [
    "## spacy.matcher.Matcher()"
   ]
  },
  {
   "cell_type": "code",
   "execution_count": 45,
   "metadata": {},
   "outputs": [
    {
     "name": "stdout",
     "output_type": "stream",
     "text": [
      "Best phones\n",
      "best Samsung phones\n"
     ]
    }
   ],
   "source": [
    "from spacy.matcher import Matcher\n",
    "\n",
    "nlp = spacy.load(\"en\")\n",
    "matcher = Matcher(nlp.vocab)\n",
    "pattern = [{\"LOWER\": \"best\"}, {\"IS_ALPHA\": True, \"OP\": \"?\"}, {\"LOWER\": \"phones\"}]\n",
    "matcher.add(\"BEST_PHONES\", None, pattern)\n",
    "\n",
    "doc = nlp(\"Best phones are all here. These are the best Samsung phones.\")\n",
    "\n",
    "for match_id, start, end in matcher(doc):\n",
    "    print(doc[start:end].text)"
   ]
  },
  {
   "cell_type": "markdown",
   "metadata": {},
   "source": [
    "See https://spacy.io/usage/rule-based-matching#matcher\n",
    "\n",
    "Available token pattern keys:\n",
    "\n",
    "* ORTH\n",
    "* LOWER\n",
    "* LENGTH\n",
    "* IS_ALPHA, IS_ASCII, IS_DIGIT\n",
    "* IS_LOWER, IS_UPPER, IS_TITLE\n",
    "* IS_PUNCT, IS_SPACE, IS_STOP\n",
    "* LIKE_NUM, LIKE_URL, LIKE_EMAIL\n",
    "* POS, TAG, DEP, LEMMA, SHAPE\n",
    "* ENT_TYPE"
   ]
  },
  {
   "cell_type": "code",
   "execution_count": 58,
   "metadata": {},
   "outputs": [],
   "source": [
    "### Pattern examples:\n",
    "\n",
    "pattern = [{\"LEMMA\": {\"IN\": [\"like\", \"love\"]}}, {\"POS\": \"NOUN\"}]\n",
    "# Matches \"love cats\" or \"likes flowers\"\n",
    "\n",
    "pattern = [{\"LENGTH\": {\">=\": 10}}]\n",
    "# Matches tokens of length >= 10\n",
    "\n",
    "pattern = [{\"LOWER\": \"facebook\"}, {\"LEMMA\": {\"IN\": [\"be\", \"'s\"]}}, {\"POS\": \"ADV\", \"OP\": \"*\"}, {\"POS\": \"ADJ\"}]\n",
    "# Matches \"Facebook is annoying\", \"Facebook's very nice\""
   ]
  }
 ],
 "metadata": {
  "kernelspec": {
   "display_name": "Python 3",
   "language": "python",
   "name": "python3"
  },
  "language_info": {
   "codemirror_mode": {
    "name": "ipython",
    "version": 3
   },
   "file_extension": ".py",
   "mimetype": "text/x-python",
   "name": "python",
   "nbconvert_exporter": "python",
   "pygments_lexer": "ipython3",
   "version": "3.7.5"
  }
 },
 "nbformat": 4,
 "nbformat_minor": 2
}
