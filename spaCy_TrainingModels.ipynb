{
 "cells": [
  {
   "cell_type": "markdown",
   "metadata": {},
   "source": [
    "# Basics\n",
    "\n",
    "References:\n",
    "* https://spacy.io/usage/training"
   ]
  },
  {
   "cell_type": "markdown",
   "metadata": {},
   "source": [
    "## Command-line interface\n",
    "\n",
    "* `python -m spacy convert input_file [output_dir]`: Convert input_file to spaCy's JSON training format\n",
    "\n",
    "* `python -m spacy train lang output_dir train_file dev_file`: Training\n",
    "\n",
    "* `python -m spacy debug-data lang train_file dev_file`:  Data format validation\n",
    "\n",
    "__Example__:\n",
    "\n",
    "```python\n",
    "git clone https://github.com/UniversalDependencies/UD_Spanish-AnCora\n",
    "\n",
    "mkdir ancora-json\n",
    "python -m spacy convert UD_Spanish-AnCora/es_ancora-ud-train.conllu ancora-json\n",
    "python -m spacy convert UD_Spanish-AnCora/es_ancora-ud-dev.conllu ancora-json\n",
    "\n",
    "train_file = ancora-json/es_ancora-ud-train.json\n",
    "dev_file = ancora-json/es_ancora-ud-dev.json\n",
    "python -m spacy debug-data train_file dev_file  --verboase\n",
    "\n",
    "mkdir models\n",
    "python -m spacy train es models train_file dev_file\n",
    "```"
   ]
  },
  {
   "cell_type": "markdown",
   "metadata": {},
   "source": [
    "## Training NER\n",
    "\n",
    "* `optimizer = nlp.begin_training()`\n",
    "* `optimizer = nlp.resume_training()`\n",
    "* `optimizer = nlp.entity.create_optimizer()`"
   ]
  },
  {
   "cell_type": "code",
   "execution_count": 34,
   "metadata": {},
   "outputs": [
    {
     "name": "stdout",
     "output_type": "stream",
     "text": [
      "Entities in 'Shaka Khan lives in Berlin. Do you like horses?'\n",
      "PERSON Shaka Khan\n",
      "LOC Berlin\n",
      "ANIMAL horses\n"
     ]
    }
   ],
   "source": [
    "import spacy\n",
    "import random\n",
    "from spacy.util import minibatch, compounding\n",
    "\n",
    "NEW_LABEL = \"ANIMAL\"\n",
    "\n",
    "TRAIN_DATA = [\n",
    "    (\"Who is Shaka Khan?\", {\"entities\": [(7, 17, \"PERSON\")]}),\n",
    "    (\"I like London and Berlin.\", {\"entities\": [(7, 13, \"LOC\"), (18, 24, \"LOC\")]}),\n",
    "    \n",
    "    (\"Horses are too tall and they pretend to care about your feelings\", {\"entities\": [(0, 6, NEW_LABEL)]}),\n",
    "    (\"Do they bite?\", {\"entities\": []}),\n",
    "    (\"horses are too tall and they pretend to care about your feelings\", {\"entities\": [(0, 6, NEW_LABEL)]}),\n",
    "    (\"horses pretend to care about your feelings\", {\"entities\": [(0, 6, NEW_LABEL)]}),\n",
    "    (\"they pretend to care about your feelings, those horses\", {\"entities\": [(48, 54, NEW_LABEL)]}),\n",
    "    (\"horses?\", {\"entities\": [(0, 6, NEW_LABEL)]}),\n",
    "]\n",
    "\n",
    "model = 'en'\n",
    "n_iter = 100\n",
    "output_dir = './models'\n",
    "\n",
    "# Load the model:\n",
    "if model is not None:\n",
    "    nlp = spacy.load(model)\n",
    "else:\n",
    "    nlp = spacy.blank(\"en\")\n",
    "    \n",
    "# Get or create the pipe 'ner':\n",
    "if \"ner\" in nlp.pipe_names:\n",
    "    ner = nlp.get_pipe(\"ner\")\n",
    "else:\n",
    "    ner = nlp.create_pipe(\"ner\")\n",
    "    nlp.add_pipe(ner, last=True)\n",
    "\n",
    "# Add labels to ner:\n",
    "for _, annotations in TRAIN_DATA:\n",
    "    for ent in annotations.get(\"entities\"):\n",
    "        ner.add_label(ent[2])\n",
    "        \n",
    "# Disable other pipes during training:\n",
    "other_pipes = [pipe for pipe in nlp.pipe_names if pipe != 'ner']\n",
    "nlp.disable_pipes(*other_pipes)\n",
    "\n",
    "# Set an optimizer.\n",
    "if model is None:  # If we're training a new model, reset and initialize the weights of the model randomly.\n",
    "    optimizer = nlp.begin_training()    \n",
    "else:\n",
    "    optimizer = nlp.resume_training()\n",
    "    \n",
    "    \n",
    "# Train the model:\n",
    "for itn in range(n_iter):\n",
    "    random.shuffle(TRAIN_DATA)\n",
    "    losses = {}\n",
    "    # batch up the examples using spaCy's minibatch\n",
    "    batches = minibatch(TRAIN_DATA, size=compounding(4.0, 32.0, 1.001))\n",
    "    for batch in batches:\n",
    "        texts, annotations = zip(*batch)\n",
    "        nlp.update(texts, annotations, drop=0.2, losses=losses, sgd=optimizer)\n",
    "#    print(\"Epoch{}: Losses {}\".format(itn, losses))\n",
    "    \n",
    "    \n",
    "# Test the model:\n",
    "test_text = \"Shaka Khan lives in Berlin. Do you like horses?\"\n",
    "doc = nlp(test_text)\n",
    "print(\"Entities in '%s'\" % test_text)\n",
    "for ent in doc.ents:\n",
    "    print(ent.label_, ent.text)\n",
    "    \n",
    "    \n",
    "# Save the model:\n",
    "nlp.to_disk(output_dir)\n",
    "\n",
    "# Test the saved model:\n",
    "# nlp2 = spacy.load(output_dir)\n",
    "# for text, _ in TRAIN_DATA:\n",
    "#     doc = nlp2(text)\n",
    "#     print(\"Entities\", [(ent.text, ent.label_) for ent in doc.ents])\n",
    "#     print(\"Tokens\", [(t.text, t.ent_type_, t.ent_iob) for t in doc])"
   ]
  }
 ],
 "metadata": {
  "kernelspec": {
   "display_name": "Python 3",
   "language": "python",
   "name": "python3"
  },
  "language_info": {
   "codemirror_mode": {
    "name": "ipython",
    "version": 3
   },
   "file_extension": ".py",
   "mimetype": "text/x-python",
   "name": "python",
   "nbconvert_exporter": "python",
   "pygments_lexer": "ipython3",
   "version": "3.7.5"
  }
 },
 "nbformat": 4,
 "nbformat_minor": 2
}
